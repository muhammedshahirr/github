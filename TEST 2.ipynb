{
 "cells": [
  {
   "cell_type": "markdown",
   "id": "29d56d1d",
   "metadata": {},
   "source": [
    "# Question 1\n",
    "x=t\n",
    "dx=dt"
   ]
  },
  {
   "cell_type": "code",
   "execution_count": 24,
   "id": "de1df2a6",
   "metadata": {},
   "outputs": [
    {
     "data": {
      "image/png": "[encoded data removed]",
      "text/plain": [
       "<Figure size 640x480 with 1 Axes>"
      ]
     },
     "metadata": {},
     "output_type": "display_data"
    }
   ],
   "source": [
    "import numpy as np\n",
    "from scipy.integrate import odeint\n",
    "import matplotlib.pyplot as plt\n",
    "\n",
    "def model(y, t):\n",
    "    dydt = -2 * y  # Corrected from -2 * yt to -2 * y\n",
    "    return dydt\n",
    "\n",
    "# Set initial condition\n",
    "y0 = 1.0\n",
    "\n",
    "# Set time points where you want to solve the ODE\n",
    "t = np.linspace(0, 2, 100)  # Specify the number of points (e.g., 100)\n",
    "\n",
    "# Solve the ODE using odeint\n",
    "solution = odeint(model, y0, t)\n",
    "\n",
    "# Plot the solution\n",
    "plt.plot(t, solution[:, 0], label='y(t)')\n",
    "plt.xlabel('Time')\n",
    "plt.ylabel('y(t)')\n",
    "plt.legend()\n",
    "plt.show()"
   ]
  },
  {
   "cell_type": "markdown",
   "id": "8ef406e7",
   "metadata": {},
   "source": [
    "# Question 2"
   ]
  },
  {
   "cell_type": "code",
   "execution_count": 14,
   "id": "6ff2ac7d",
   "metadata": {
    "scrolled": true
   },
   "outputs": [
    {
     "name": "stdout",
     "output_type": "stream",
     "text": [
      "[[2 4 6]\n",
      " [5 3 2]\n",
      " [7 8 9]]\n",
      "[[18]\n",
      " [13]\n",
      " [20]]\n",
      "[[ 12.83333333]\n",
      " [-29.16666667]\n",
      " [ 18.16666667]]\n"
     ]
    }
   ],
   "source": [
    "import numpy as np\n",
    "import scipy as sc\n",
    "\n",
    "A = np.array([[2, 4, 6], [5, 3, 2], [7,8,9]])\n",
    "print(A)\n",
    "\n",
    "b = np.array([[18], [13], [20]])\n",
    "print(b)\n",
    "\n",
    "C = sc.linalg.solve(A, b)\n",
    "print(C)\n"
   ]
  },
  {
   "cell_type": "markdown",
   "id": "202d1288",
   "metadata": {},
   "source": [
    "# Question 3\n",
    "range 1 - 16 days\n"
   ]
  },
  {
   "cell_type": "code",
   "execution_count": 36,
   "id": "a3b0bd21",
   "metadata": {},
   "outputs": [
    {
     "name": "stdout",
     "output_type": "stream",
     "text": [
      "Enter the time (default: 12:00): 01:00\n"
     ]
    },
    {
     "ename": "TypeError",
     "evalue": "'float' object is not subscriptable",
     "output_type": "error",
     "traceback": [
      "\u001b[1;31m---------------------------------------------------------------------------\u001b[0m",
      "\u001b[1;31mTypeError\u001b[0m                                 Traceback (most recent call last)",
      "Cell \u001b[1;32mIn[36], line 14\u001b[0m\n\u001b[0;32m     12\u001b[0m default_time \u001b[38;5;241m=\u001b[39m \u001b[38;5;124m'\u001b[39m\u001b[38;5;124m12:00\u001b[39m\u001b[38;5;124m'\u001b[39m  \u001b[38;5;66;03m# Set a default time value\u001b[39;00m\n\u001b[0;32m     13\u001b[0m time \u001b[38;5;241m=\u001b[39m \u001b[38;5;28minput\u001b[39m(\u001b[38;5;124mf\u001b[39m\u001b[38;5;124m\"\u001b[39m\u001b[38;5;124mEnter the time (default: \u001b[39m\u001b[38;5;132;01m{\u001b[39;00mdefault_time\u001b[38;5;132;01m}\u001b[39;00m\u001b[38;5;124m): \u001b[39m\u001b[38;5;124m\"\u001b[39m) \u001b[38;5;129;01mor\u001b[39;00m default_time\n\u001b[1;32m---> 14\u001b[0m temperature_at_time \u001b[38;5;241m=\u001b[39m \u001b[38;5;28mfloat\u001b[39m(\u001b[38;5;28mnext\u001b[39m((item[\u001b[38;5;124m'\u001b[39m\u001b[38;5;124mvalue\u001b[39m\u001b[38;5;124m'\u001b[39m] \u001b[38;5;28;01mfor\u001b[39;00m item \u001b[38;5;129;01min\u001b[39;00m data \u001b[38;5;28;01mif\u001b[39;00m item[\u001b[38;5;124m'\u001b[39m\u001b[38;5;124mtime\u001b[39m\u001b[38;5;124m'\u001b[39m] \u001b[38;5;241m==\u001b[39m time), \u001b[38;5;28;01mNone\u001b[39;00m))\n\u001b[0;32m     16\u001b[0m \u001b[38;5;28;01mif\u001b[39;00m temperature_at_time \u001b[38;5;129;01mis\u001b[39;00m \u001b[38;5;129;01mnot\u001b[39;00m \u001b[38;5;28;01mNone\u001b[39;00m:\n\u001b[0;32m     17\u001b[0m     \u001b[38;5;28mprint\u001b[39m(\u001b[38;5;124mf\u001b[39m\u001b[38;5;124m\"\u001b[39m\u001b[38;5;124mTemperature at \u001b[39m\u001b[38;5;132;01m{\u001b[39;00mtime\u001b[38;5;132;01m}\u001b[39;00m\u001b[38;5;124m: \u001b[39m\u001b[38;5;132;01m{\u001b[39;00mtemperature_at_time\u001b[38;5;132;01m}\u001b[39;00m\u001b[38;5;124m°C\u001b[39m\u001b[38;5;124m\"\u001b[39m)\n",
      "Cell \u001b[1;32mIn[36], line 14\u001b[0m, in \u001b[0;36m<genexpr>\u001b[1;34m(.0)\u001b[0m\n\u001b[0;32m     12\u001b[0m default_time \u001b[38;5;241m=\u001b[39m \u001b[38;5;124m'\u001b[39m\u001b[38;5;124m12:00\u001b[39m\u001b[38;5;124m'\u001b[39m  \u001b[38;5;66;03m# Set a default time value\u001b[39;00m\n\u001b[0;32m     13\u001b[0m time \u001b[38;5;241m=\u001b[39m \u001b[38;5;28minput\u001b[39m(\u001b[38;5;124mf\u001b[39m\u001b[38;5;124m\"\u001b[39m\u001b[38;5;124mEnter the time (default: \u001b[39m\u001b[38;5;132;01m{\u001b[39;00mdefault_time\u001b[38;5;132;01m}\u001b[39;00m\u001b[38;5;124m): \u001b[39m\u001b[38;5;124m\"\u001b[39m) \u001b[38;5;129;01mor\u001b[39;00m default_time\n\u001b[1;32m---> 14\u001b[0m temperature_at_time \u001b[38;5;241m=\u001b[39m \u001b[38;5;28mfloat\u001b[39m(\u001b[38;5;28mnext\u001b[39m((item[\u001b[38;5;124m'\u001b[39m\u001b[38;5;124mvalue\u001b[39m\u001b[38;5;124m'\u001b[39m] \u001b[38;5;28;01mfor\u001b[39;00m item \u001b[38;5;129;01min\u001b[39;00m data \u001b[38;5;28;01mif\u001b[39;00m item[\u001b[38;5;124m'\u001b[39m\u001b[38;5;124mtime\u001b[39m\u001b[38;5;124m'\u001b[39m] \u001b[38;5;241m==\u001b[39m time), \u001b[38;5;28;01mNone\u001b[39;00m))\n\u001b[0;32m     16\u001b[0m \u001b[38;5;28;01mif\u001b[39;00m temperature_at_time \u001b[38;5;129;01mis\u001b[39;00m \u001b[38;5;129;01mnot\u001b[39;00m \u001b[38;5;28;01mNone\u001b[39;00m:\n\u001b[0;32m     17\u001b[0m     \u001b[38;5;28mprint\u001b[39m(\u001b[38;5;124mf\u001b[39m\u001b[38;5;124m\"\u001b[39m\u001b[38;5;124mTemperature at \u001b[39m\u001b[38;5;132;01m{\u001b[39;00mtime\u001b[38;5;132;01m}\u001b[39;00m\u001b[38;5;124m: \u001b[39m\u001b[38;5;132;01m{\u001b[39;00mtemperature_at_time\u001b[38;5;132;01m}\u001b[39;00m\u001b[38;5;124m°C\u001b[39m\u001b[38;5;124m\"\u001b[39m)\n",
      "\u001b[1;31mTypeError\u001b[0m: 'float' object is not subscriptable"
     ]
    }
   ],
   "source": [
    "import matplotlib.pyplot as plt\n",
    "import requests\n",
    "\n",
    "api_url = \"https://api.open-meteo.com/v1/forecast?latitude=2.5&longitude=112.5&hourly=temperature_2m&timezone=Asia%2FSingapore&forecast_days=1\"\n",
    "\n",
    "try:\n",
    "    response = requests.get(api_url)\n",
    "    response.raise_for_status()\n",
    "\n",
    "    data = response.json()['hourly']['temperature_2m']\n",
    "    \n",
    "    default_time = '12:00'  # Set a default time value\n",
    "    time = input(f\"Enter the time (default: {default_time}): \") or default_time\n",
    "    temperature_at_time = next((item['value'] for item in data if item['time'] == time), None)\n",
    "\n",
    "    if temperature_at_time is not None:\n",
    "        print(f\"Temperature at {time}: {temperature_at_time}°C\")\n",
    "    else:\n",
    "        print(f\"No temperature data found for {time}\")\n",
    "\n",
    "    plt.plot([item['time'] for item in data], [item['value'] for item in data], marker='o')\n",
    "    plt.title(\"Hourly Temperature Data\")\n",
    "    plt.xlabel(\"Hour\")\n",
    "    plt.ylabel(\"Temperature (°C)\")\n",
    "    plt.show()\n",
    "\n",
    "except requests.RequestException as e:\n",
    "    print(f\"Error: Unable to fetch data. {e}\")"
   ]
  },
  {
   "cell_type": "code",
   "execution_count": null,
   "id": "3a504527",
   "metadata": {},
   "outputs": [],
   "source": []
  }
 ],
 "metadata": {
  "kernelspec": {
   "display_name": "Python 3 (ipykernel)",
   "language": "python",
   "name": "python3"
  },
  "language_info": {
   "codemirror_mode": {
    "name": "ipython",
    "version": 3
   },
   "file_extension": ".py",
   "mimetype": "text/x-python",
   "name": "python",
   "nbconvert_exporter": "python",
   "pygments_lexer": "ipython3",
   "version": "3.11.5"
  }
 },
 "nbformat": 4,
 "nbformat_minor": 5
}
