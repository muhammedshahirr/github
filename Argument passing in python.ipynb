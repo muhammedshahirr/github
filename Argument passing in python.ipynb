{
 "cells": [
  {
   "cell_type": "markdown",
   "id": "4ff58910",
   "metadata": {},
   "source": [
    "# Positional Arguments"
   ]
  },
  {
   "cell_type": "code",
   "execution_count": 2,
   "id": "807d44b5",
   "metadata": {},
   "outputs": [
    {
     "name": "stdout",
     "output_type": "stream",
     "text": [
      "Erissa is enrolled in Mathematics class.\n"
     ]
    }
   ],
   "source": [
    "def student_information(class_name, student_name):\n",
    "    # Display information about a student and their class.\n",
    "    print(student_name + \" is enrolled in \" + class_name + \" class.\")\n",
    "# Positional arguments:\n",
    "student_information('Mathematics', 'Erissa')"
   ]
  },
  {
   "cell_type": "markdown",
   "id": "4b1c246f",
   "metadata": {},
   "source": [
    "# Keyword Arguments"
   ]
  },
  {
   "cell_type": "code",
   "execution_count": 1,
   "id": "d928ff6b",
   "metadata": {},
   "outputs": [
    {
     "name": "stdout",
     "output_type": "stream",
     "text": [
      "Erissa is enrolled in Mathematics class.\n"
     ]
    }
   ],
   "source": [
    "def student_information(class_name, student_name):\n",
    "    # Display information about a student and their class.\n",
    "    print(student_name + \" is enrolled in \" + class_name + \" class.\")\n",
    "# Keyword arguments:\n",
    "student_information(class_name='Mathematics', student_name='Erissa')\n"
   ]
  },
  {
   "cell_type": "markdown",
   "id": "b83e3fab",
   "metadata": {},
   "source": [
    "# Default Arguments"
   ]
  },
  {
   "cell_type": "code",
   "execution_count": 6,
   "id": "a2d6a9ae",
   "metadata": {},
   "outputs": [
    {
     "name": "stdout",
     "output_type": "stream",
     "text": [
      "Student Name: Rania\n",
      "Enrolled Course: Introduction to Python\n",
      "Student Name: Erissa\n",
      "Enrolled Course: Data Structures\n"
     ]
    }
   ],
   "source": [
    "def enroll_student(student_name, course='Introduction to Python'):\n",
    "    # Enroll a student in a course with a default option.\n",
    "    print(\"Student Name: \" + student_name)\n",
    "    print(\"Enrolled Course: \" + course)\n",
    "    # Using the default argument for course:\n",
    "enroll_student(student_name='Rania')\n",
    "\n",
    "# Overriding the default argument for course:\n",
    "enroll_student(student_name='Erissa', course='Data Structures')\n",
    "\n",
    "\n"
   ]
  },
  {
   "cell_type": "markdown",
   "id": "9dcae9ae",
   "metadata": {},
   "source": [
    "# Variable-length Arguments"
   ]
  },
  {
   "cell_type": "code",
   "execution_count": 4,
   "id": "60eebd1a",
   "metadata": {},
   "outputs": [
    {
     "name": "stdout",
     "output_type": "stream",
     "text": [
      "Student: Erissa\n",
      "Enrolled in:\n",
      "- Biology 101\n",
      "- Chemistry 101\n",
      "- Physics 101\n"
     ]
    }
   ],
   "source": [
    "def enroll_in_courses(student_name, *courses):\n",
    "    # Enroll a student in multiple courses.\n",
    "    print(\"Student: \" + student_name)\n",
    "    print(\"Enrolled in:\")\n",
    "    for course in courses:\n",
    "        print(\"- \" + course)\n",
    "# Example of enrolling a student in three different courses:\n",
    "enroll_in_courses('Erissa', 'Biology 101', 'Chemistry 101', 'Physics 101')\n"
   ]
  },
  {
   "cell_type": "markdown",
   "id": "c6b986fd",
   "metadata": {},
   "source": [
    "# **Kwargs"
   ]
  },
  {
   "cell_type": "code",
   "execution_count": 5,
   "id": "93de6615",
   "metadata": {},
   "outputs": [
    {
     "name": "stdout",
     "output_type": "stream",
     "text": [
      "Enrolling Erissa with the following details:\n",
      "- Course: Algebra II\n",
      "- Semester: One\n",
      "- Payment Method: Credit Card\n"
     ]
    }
   ],
   "source": [
    "def enroll_student(student_name, **details):\n",
    "     # Enroll a student with additional details.\n",
    "    print(\"Enrolling \" + student_name + \" with the following details:\")\n",
    "    for detail, value in details.items():\n",
    "        print(\"- \" + detail.replace('_', ' ').title() + \": \" + str(value))\n",
    "# Example of enrolling a student with additional details:\n",
    "enroll_student('Erissa', course='Algebra II', semester='One', payment_method='Credit Card')"
   ]
  },
  {
   "cell_type": "code",
   "execution_count": 33,
   "id": "d50c0723",
   "metadata": {
    "scrolled": true
   },
   "outputs": [
    {
     "name": "stdout",
     "output_type": "stream",
     "text": [
      "Checked Proccessed by: Erissa\n",
      "Books Checked Out:\n",
      "- 1989\n",
      "- taylors world books\n",
      "- swiftie forever\n",
      "Checkout Duration: 3 weeks\n",
      "Additional Checkout Details:\n",
      "- Late Fee: $0.25\n",
      "- Renewals Allowed: 2\n",
      "Special Conditions for Checkout:\n",
      "-Handle with care\n"
     ]
    }
   ],
   "source": [
    "def checkout_books(librarian_name, *book_titles):\n",
    "    # checkout books processed by librarian name .\n",
    "    print(\"Checked Proccessed by: \" + librarian_name)\n",
    "    print(\"Books Checked Out:\")\n",
    "    for books in book_titles:\n",
    "        print(\"- \" + books)\n",
    "# Example of enrolling a student in three different courses:\n",
    "checkout_books('Erissa', '1989', 'taylors world books', 'swiftie forever')\n",
    "\n",
    "def checkout_details(duration, **details):\n",
    "    # Enroll a student in multiple courses.\n",
    "    print(\"Checkout Duration: \" + duration)\n",
    "    print(\"Additional Checkout Details:\")\n",
    "    for detail, value in details.items():\n",
    "        print(\"- \" + detail.replace('_', ' ').title() + \": \" + str(value))\n",
    "\n",
    "checkout_details('3 weeks', Late_Fee='$0.25',Renewals_Allowed='2')\n",
    "def special_conditions(*condition):\n",
    "    print(\"Special Conditions for Checkout:\")\n",
    "    for special_condition in condition:\n",
    "        print(\"-\" + special_condition)\n",
    "        \n",
    "special_conditions('Handle with care')\n",
    "    \n"
   ]
  },
  {
   "cell_type": "markdown",
   "id": "e9f3467f",
   "metadata": {},
   "source": [
    "# Assignment 4\n",
    "\n"
   ]
  },
  {
   "cell_type": "code",
   "execution_count": 35,
   "id": "06d51f17",
   "metadata": {},
   "outputs": [
    {
     "name": "stdout",
     "output_type": "stream",
     "text": [
      "Checked Proccessed by: Erissa\n",
      "Books Checked Out:\n",
      "- 1989\n",
      "- taylors world books\n",
      "- swiftie forever\n",
      "Checkout Duration: 2 weeks\n",
      "Additional Checkout Details:\n",
      "- Late Fee: $0.25\n",
      "- Renewals Allowed: 2\n",
      "Special Conditions for Checkout:\n",
      "-Handle with care\n"
     ]
    }
   ],
   "source": [
    "def checkout_books(librarian_name, *book_titles):\n",
    "    # checkout books processed by librarian name .\n",
    "    print(\"Checked Proccessed by: \" + librarian_name)\n",
    "    print(\"Books Checked Out:\")\n",
    "    for books in book_titles:\n",
    "        print(\"- \" + books)\n",
    "checkout_books('Erissa', '1989', 'taylors world books', 'swiftie forever')\n",
    "\n",
    "def checkout_details(duration, **details):\n",
    "    print(\"Checkout Duration: \" + duration)\n",
    "    print(\"Additional Checkout Details:\")\n",
    "    for detail, value in details.items():\n",
    "        print(\"- \" + detail.replace('_', ' ').title() + \": \" + str(value))\n",
    "\n",
    "checkout_details('2 weeks', Late_Fee='$0.25',Renewals_Allowed='2')\n",
    "def special_conditions(*condition):\n",
    "    print(\"Special Conditions for Checkout:\")\n",
    "    for special_condition in condition:\n",
    "        print(\"-\" + special_condition)\n",
    "        \n",
    "special_conditions('Handle with care')"
   ]
  },
  {
   "cell_type": "code",
   "execution_count": null,
   "id": "642129d3",
   "metadata": {},
   "outputs": [],
   "source": []
  }
 ],
 "metadata": {
  "kernelspec": {
   "display_name": "Python 3 (ipykernel)",
   "language": "python",
   "name": "python3"
  },
  "language_info": {
   "codemirror_mode": {
    "name": "ipython",
    "version": 3
   },
   "file_extension": ".py",
   "mimetype": "text/x-python",
   "name": "python",
   "nbconvert_exporter": "python",
   "pygments_lexer": "ipython3",
   "version": "3.11.5"
  }
 },
 "nbformat": 4,
 "nbformat_minor": 5
}
