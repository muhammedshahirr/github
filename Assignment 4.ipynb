{
 "cells": [
  {
   "cell_type": "markdown",
   "id": "1014f31d",
   "metadata": {},
   "source": [
    "# Library book management"
   ]
  },
  {
   "cell_type": "code",
   "execution_count": 1,
   "id": "099f30b0",
   "metadata": {
    "scrolled": true
   },
   "outputs": [
    {
     "name": "stdout",
     "output_type": "stream",
     "text": [
      "Checked Proccessed by: Erissa\n",
      "Books Checked Out:\n",
      "- 1989\n",
      "- taylors world books\n",
      "- swiftie forever\n",
      "Checkout Duration: 2 weeks\n",
      "Additional Checkout Details:\n",
      "- Late Fee: $0.25\n",
      "- Renewals Allowed: 2\n",
      "Special Conditions for Checkout:\n",
      "-Handle with care\n"
     ]
    }
   ],
   "source": [
    "def checkout_books(librarian_name, *book_titles):\n",
    "    # checkout books processed by librarian name .\n",
    "    print(\"Checked Proccessed by: \" + librarian_name)\n",
    "    print(\"Books Checked Out:\")\n",
    "    for books in book_titles:\n",
    "        print(\"- \" + books)\n",
    "checkout_books('Erissa', '1989', 'taylors world books', 'swiftie forever')\n",
    "\n",
    "def checkout_details(duration, **details):\n",
    "    print(\"Checkout Duration: \" + duration)\n",
    "    print(\"Additional Checkout Details:\")\n",
    "    for detail, value in details.items():\n",
    "        print(\"- \" + detail.replace('_', ' ').title() + \": \" + str(value))\n",
    "\n",
    "checkout_details('2 weeks', Late_Fee='$0.25',Renewals_Allowed='2')\n",
    "def special_conditions(*condition):\n",
    "    print(\"Special Conditions for Checkout:\")\n",
    "    for special_condition in condition:\n",
    "        print(\"-\" + special_condition)\n",
    "        \n",
    "special_conditions('Handle with care')"
   ]
  },
  {
   "cell_type": "code",
   "execution_count": null,
   "id": "d8c0e3bb",
   "metadata": {},
   "outputs": [],
   "source": []
  }
 ],
 "metadata": {
  "kernelspec": {
   "display_name": "Python 3 (ipykernel)",
   "language": "python",
   "name": "python3"
  },
  "language_info": {
   "codemirror_mode": {
    "name": "ipython",
    "version": 3
   },
   "file_extension": ".py",
   "mimetype": "text/x-python",
   "name": "python",
   "nbconvert_exporter": "python",
   "pygments_lexer": "ipython3",
   "version": "3.11.5"
  }
 },
 "nbformat": 4,
 "nbformat_minor": 5
}
