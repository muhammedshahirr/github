{
 "cells": [
  {
   "cell_type": "code",
   "execution_count": 1,
   "id": "61fca5d6",
   "metadata": {},
   "outputs": [
    {
     "name": "stdout",
     "output_type": "stream",
     "text": [
      "Composition of the product gas:\n",
      "Ethylene: 56.76%\n",
      "Propylene: 9.46%\n",
      "Methane: 9.46%\n",
      "Unreacted Ethane: 24.32%\n"
     ]
    }
   ],
   "source": [
    "# Given data\n",
    "moles_ethane_in = 100 \n",
    "fractional_conversion_ethane = 0.70\n",
    "selectivity_ethylene_to_propylene = 5\n",
    "\n",
    "# Calculate moles of ethylene produced\n",
    "moles_ethylene_produced = moles_ethane_in * fractional_conversion_ethane\n",
    "\n",
    "# Calculate moles of propylene produced\n",
    "moles_propylene_produced = moles_ethylene_produced / (1 + selectivity_ethylene_to_propylene)\n",
    "\n",
    "# Calculate moles of methane produced\n",
    "moles_methane_produced = moles_propylene_produced\n",
    "\n",
    "# Calculate moles of unreacted ethane\n",
    "moles_ethane_unreacted = moles_ethane_in - moles_ethylene_produced\n",
    "\n",
    "# Calculate total moles in the outlet stream\n",
    "total_moles_outlet = moles_ethylene_produced + moles_propylene_produced + moles_methane_produced + moles_ethane_unreacted\n",
    "\n",
    "# Calculate the composition of the product gas\n",
    "composition_ethylene = moles_ethylene_produced / total_moles_outlet\n",
    "composition_propylene = moles_propylene_produced / total_moles_outlet\n",
    "composition_methane = moles_methane_produced / total_moles_outlet\n",
    "composition_ethane_unreacted = moles_ethane_unreacted / total_moles_outlet\n",
    "\n",
    "# results\n",
    "print(\"Composition of the product gas:\")\n",
    "print(f\"Ethylene: {composition_ethylene * 100:.2f}%\")\n",
    "print(f\"Propylene: {composition_propylene * 100:.2f}%\")\n",
    "print(f\"Methane: {composition_methane * 100:.2f}%\")\n",
    "print(f\"Unreacted Ethane: {composition_ethane_unreacted * 100:.2f}%\")"
   ]
  },
  {
   "cell_type": "code",
   "execution_count": null,
   "id": "095a309b",
   "metadata": {},
   "outputs": [],
   "source": []
  }
 ],
 "metadata": {
  "kernelspec": {
   "display_name": "Python 3 (ipykernel)",
   "language": "python",
   "name": "python3"
  },
  "language_info": {
   "codemirror_mode": {
    "name": "ipython",
    "version": 3
   },
   "file_extension": ".py",
   "mimetype": "text/x-python",
   "name": "python",
   "nbconvert_exporter": "python",
   "pygments_lexer": "ipython3",
   "version": "3.11.5"
  }
 },
 "nbformat": 4,
 "nbformat_minor": 5
}
