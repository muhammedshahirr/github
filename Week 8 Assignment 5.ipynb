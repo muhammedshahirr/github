{
 "cells": [
  {
   "cell_type": "code",
   "execution_count": 3,
   "id": "1142b613",
   "metadata": {},
   "outputs": [
    {
     "name": "stdout",
     "output_type": "stream",
     "text": [
      "Enter the name of a state : Johor\n",
      "Population of Johor: 3794000\n"
     ]
    }
   ],
   "source": [
    "import requests\n",
    "\n",
    "api_url = \"https://jian.sh/malaysia-api/state/v1/all.json\"\n",
    "response = requests.get(api_url)\n",
    "malaysia_state_data = response.json()\n",
    "\n",
    "def state_population(state_name):\n",
    "    for item in malaysia_state_data:\n",
    "        if item['state'] == state:\n",
    "            return item['population']\n",
    "    return None\n",
    "    \n",
    "    \n",
    "state = input(\"Enter the name of a state : \")\n",
    "population = state_population(state)\n",
    "\n",
    "if population is not None:\n",
    "    print(\"Population of \" + state + \": \" + str(population))\n",
    "else:\n",
    "    print(state + \" is not found in the data\" )\n",
    "    "
   ]
  },
  {
   "cell_type": "code",
   "execution_count": 4,
   "id": "b118c4fe",
   "metadata": {},
   "outputs": [
    {
     "name": "stdout",
     "output_type": "stream",
     "text": [
      "Enter the name of a state : Johor\n",
      "Capital of Johor: Johor Bahru\n"
     ]
    }
   ],
   "source": [
    "import requests\n",
    "\n",
    "api_url = \"https://jian.sh/malaysia-api/state/v1/all.json\"\n",
    "response = requests.get(api_url)\n",
    "malaysia_state_data = response.json()\n",
    "\n",
    "def state_capital(state_name):\n",
    "    for item in malaysia_state_data:\n",
    "        if item['state'] == state:\n",
    "            return item['capital']\n",
    "    return None\n",
    "    \n",
    "    \n",
    "state = input(\"Enter the name of a state : \")\n",
    "capital = state_capital(state)\n",
    "\n",
    "if capital is not None:\n",
    "    print(\"Capital of \" + state + \": \" + str(capital))\n",
    "else:\n",
    "    print(state + \" is not found in the data\" )\n",
    "    "
   ]
  },
  {
   "cell_type": "code",
   "execution_count": null,
   "id": "ecafb5f7",
   "metadata": {},
   "outputs": [],
   "source": []
  }
 ],
 "metadata": {
  "kernelspec": {
   "display_name": "Python 3 (ipykernel)",
   "language": "python",
   "name": "python3"
  },
  "language_info": {
   "codemirror_mode": {
    "name": "ipython",
    "version": 3
   },
   "file_extension": ".py",
   "mimetype": "text/x-python",
   "name": "python",
   "nbconvert_exporter": "python",
   "pygments_lexer": "ipython3",
   "version": "3.11.5"
  }
 },
 "nbformat": 4,
 "nbformat_minor": 5
}
