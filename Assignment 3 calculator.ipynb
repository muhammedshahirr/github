{
 "cells": [
  {
   "cell_type": "markdown",
   "id": "98a5acb7",
   "metadata": {},
   "source": [
    "# Simple calculator"
   ]
  },
  {
   "cell_type": "code",
   "execution_count": 1,
   "id": "1823fc73",
   "metadata": {},
   "outputs": [
    {
     "name": "stdout",
     "output_type": "stream",
     "text": [
      "Enter the first number: 3\n",
      "Enter the second number: 4\n",
      "Enter an operation (+,-,*,/):+\n",
      "The result is: 7.0\n"
     ]
    }
   ],
   "source": [
    "def simple_calculator():\n",
    "    while True:\n",
    "            try:\n",
    "                num1 = float(input(\"Enter the first number: \"))\n",
    "                num2 = float(input(\"Enter the second number: \"))\n",
    "                operation = input(\"Enter an operation (+,-,*,/):\")\n",
    "            \n",
    "                if operation == '+':\n",
    "                    result = num1 + num2\n",
    "                elif operation == '-':\n",
    "                    result = num1 - num2\n",
    "                elif operation == '*':\n",
    "                    result = num1 * num2\n",
    "                elif operation == '/':\n",
    "                    result = num1 / num2\n",
    "                else:\n",
    "                    print(\"Invalid operation. Please choose +,-,*,or /.\")\n",
    "                    continue\n",
    "                print(f\"The result is: {result}\")\n",
    "                break\n",
    "            \n",
    "            except ValueError:\n",
    "                print(\"Invalid Input. Please enter a Number\")\n",
    "            except ZeroDivisionError:\n",
    "                print(\"Error. Cannot divide by zero\")\n",
    "            except Exception as e:\n",
    "                print(f\"An unexpected error occured:{e}\")\n",
    "            \n",
    "simple_calculator()"
   ]
  }
 ],
 "metadata": {
  "kernelspec": {
   "display_name": "Python 3 (ipykernel)",
   "language": "python",
   "name": "python3"
  },
  "language_info": {
   "codemirror_mode": {
    "name": "ipython",
    "version": 3
   },
   "file_extension": ".py",
   "mimetype": "text/x-python",
   "name": "python",
   "nbconvert_exporter": "python",
   "pygments_lexer": "ipython3",
   "version": "3.11.5"
  }
 },
 "nbformat": 4,
 "nbformat_minor": 5
}
